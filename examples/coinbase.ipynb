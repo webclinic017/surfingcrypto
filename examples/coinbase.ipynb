{
 "cells": [
  {
   "cell_type": "code",
   "execution_count": 1,
   "metadata": {},
   "outputs": [],
   "source": [
    "%load_ext autoreload\n",
    "%autoreload 2\n",
    "from surfingcrypto.coinbase import MyCoinbase,CB\n",
    "from surfingcrypto.portfolio import PortfolioAnalysis\n",
    "from surfingcrypto.config import config\n",
    "import pandas as pd"
   ]
  },
  {
   "cell_type": "code",
   "execution_count": 2,
   "metadata": {},
   "outputs": [],
   "source": [
    "parent=\"/Users/giorgiocaizzi/Documents/GitHub/surfingcrypto/\"\n",
    "c=config(parent+\"config\",parent+\"data\")"
   ]
  },
  {
   "cell_type": "code",
   "execution_count": 3,
   "metadata": {},
   "outputs": [
    {
     "ename": "AttributeError",
     "evalue": "'MyCoinbase' object has no attribute 'config'",
     "output_type": "error",
     "traceback": [
      "\u001b[0;31m---------------------------------------------------------------------------\u001b[0m",
      "\u001b[0;31mAttributeError\u001b[0m                            Traceback (most recent call last)",
      "\u001b[0;32m/var/folders/qd/pm08qr3s0dx5q76fd9pxjgyh0000gn/T/ipykernel_6451/427102050.py\u001b[0m in \u001b[0;36m<module>\u001b[0;34m\u001b[0m\n\u001b[1;32m      2\u001b[0m     \u001b[0mactive_accounts\u001b[0m\u001b[0;34m=\u001b[0m\u001b[0;32mFalse\u001b[0m\u001b[0;34m,\u001b[0m\u001b[0;34m\u001b[0m\u001b[0;34m\u001b[0m\u001b[0m\n\u001b[1;32m      3\u001b[0m     \u001b[0;31m# from_dict=True,\u001b[0m\u001b[0;34m\u001b[0m\u001b[0;34m\u001b[0m\u001b[0;34m\u001b[0m\u001b[0m\n\u001b[0;32m----> 4\u001b[0;31m     configuration=c)\n\u001b[0m",
      "\u001b[0;32m~/Documents/GitHub/surfingcrypto/surfingcrypto/coinbase.py\u001b[0m in \u001b[0;36m__init__\u001b[0;34m(self, active_accounts, from_dict, *args, **kwargs)\u001b[0m\n\u001b[1;32m    167\u001b[0m         ):\n\u001b[1;32m    168\u001b[0m         \u001b[0msuper\u001b[0m\u001b[0;34m(\u001b[0m\u001b[0mMyCoinbase\u001b[0m\u001b[0;34m,\u001b[0m\u001b[0mself\u001b[0m\u001b[0;34m)\u001b[0m\u001b[0;34m.\u001b[0m\u001b[0m__init__\u001b[0m\u001b[0;34m(\u001b[0m\u001b[0;34m*\u001b[0m\u001b[0margs\u001b[0m\u001b[0;34m,\u001b[0m\u001b[0;34m**\u001b[0m\u001b[0mkwargs\u001b[0m\u001b[0;34m)\u001b[0m\u001b[0;34m\u001b[0m\u001b[0;34m\u001b[0m\u001b[0m\n\u001b[0;32m--> 169\u001b[0;31m         \u001b[0mself\u001b[0m\u001b[0;34m.\u001b[0m\u001b[0mstart\u001b[0m\u001b[0;34m(\u001b[0m\u001b[0mactive_accounts\u001b[0m\u001b[0;34m,\u001b[0m \u001b[0mfrom_dict\u001b[0m\u001b[0;34m)\u001b[0m\u001b[0;34m\u001b[0m\u001b[0;34m\u001b[0m\u001b[0m\n\u001b[0m\u001b[1;32m    170\u001b[0m         \u001b[0;32mreturn\u001b[0m\u001b[0;34m\u001b[0m\u001b[0;34m\u001b[0m\u001b[0m\n\u001b[1;32m    171\u001b[0m \u001b[0;34m\u001b[0m\u001b[0m\n",
      "\u001b[0;32m~/Documents/GitHub/surfingcrypto/surfingcrypto/coinbase.py\u001b[0m in \u001b[0;36mstart\u001b[0;34m(self, active_accounts, from_dict)\u001b[0m\n\u001b[1;32m    188\u001b[0m             \u001b[0;32melse\u001b[0m\u001b[0;34m:\u001b[0m\u001b[0;34m\u001b[0m\u001b[0;34m\u001b[0m\u001b[0m\n\u001b[1;32m    189\u001b[0m                 \u001b[0mself\u001b[0m\u001b[0;34m.\u001b[0m\u001b[0maccounts\u001b[0m\u001b[0;34m,\u001b[0m\u001b[0mself\u001b[0m\u001b[0;34m.\u001b[0m\u001b[0mtimeranges\u001b[0m\u001b[0;34m=\u001b[0m\u001b[0mself\u001b[0m\u001b[0;34m.\u001b[0m\u001b[0mget_all_accounts_with_transactions\u001b[0m\u001b[0;34m(\u001b[0m\u001b[0;34m)\u001b[0m\u001b[0;34m\u001b[0m\u001b[0;34m\u001b[0m\u001b[0m\n\u001b[0;32m--> 190\u001b[0;31m                 \u001b[0mself\u001b[0m\u001b[0;34m.\u001b[0m\u001b[0mdump_accounts\u001b[0m\u001b[0;34m(\u001b[0m\u001b[0;34m)\u001b[0m\u001b[0;34m\u001b[0m\u001b[0;34m\u001b[0m\u001b[0m\n\u001b[0m\u001b[1;32m    191\u001b[0m         \u001b[0;32melse\u001b[0m\u001b[0;34m:\u001b[0m\u001b[0;34m\u001b[0m\u001b[0;34m\u001b[0m\u001b[0m\n\u001b[1;32m    192\u001b[0m             \u001b[0;32mraise\u001b[0m \u001b[0mValueError\u001b[0m\u001b[0;34m(\u001b[0m\u001b[0;34m\"Either true or false.\"\u001b[0m\u001b[0;34m)\u001b[0m\u001b[0;34m\u001b[0m\u001b[0;34m\u001b[0m\u001b[0m\n",
      "\u001b[0;32m~/Documents/GitHub/surfingcrypto/surfingcrypto/coinbase.py\u001b[0m in \u001b[0;36mdump_accounts\u001b[0;34m(self)\u001b[0m\n\u001b[1;32m    208\u001b[0m             \u001b[0;34m\"accounts\"\u001b[0m\u001b[0;34m:\u001b[0m\u001b[0ml\u001b[0m\u001b[0;34m\u001b[0m\u001b[0;34m\u001b[0m\u001b[0m\n\u001b[1;32m    209\u001b[0m         }\n\u001b[0;32m--> 210\u001b[0;31m         \u001b[0;32mwith\u001b[0m \u001b[0mopen\u001b[0m\u001b[0;34m(\u001b[0m\u001b[0mself\u001b[0m\u001b[0;34m.\u001b[0m\u001b[0mconfig\u001b[0m\u001b[0;34m.\u001b[0m\u001b[0mconfig_folder\u001b[0m\u001b[0;34m+\u001b[0m\u001b[0;34m\"/coinbase_accounts.json\"\u001b[0m\u001b[0;34m,\u001b[0m\u001b[0;34m\"w\"\u001b[0m\u001b[0;34m)\u001b[0m \u001b[0;32mas\u001b[0m \u001b[0mf\u001b[0m\u001b[0;34m:\u001b[0m\u001b[0;34m\u001b[0m\u001b[0;34m\u001b[0m\u001b[0m\n\u001b[0m\u001b[1;32m    211\u001b[0m             \u001b[0mjson\u001b[0m\u001b[0;34m.\u001b[0m\u001b[0mdump\u001b[0m\u001b[0;34m(\u001b[0m\u001b[0mdump\u001b[0m\u001b[0;34m,\u001b[0m\u001b[0mf\u001b[0m\u001b[0;34m,\u001b[0m\u001b[0mindent\u001b[0m\u001b[0;34m=\u001b[0m\u001b[0;36m4\u001b[0m\u001b[0;34m)\u001b[0m\u001b[0;34m\u001b[0m\u001b[0;34m\u001b[0m\u001b[0m\n\u001b[1;32m    212\u001b[0m \u001b[0;34m\u001b[0m\u001b[0m\n",
      "\u001b[0;31mAttributeError\u001b[0m: 'MyCoinbase' object has no attribute 'config'"
     ]
    }
   ],
   "source": [
    "cb=MyCoinbase(\n",
    "    active_accounts=False,\n",
    "    # from_dict=True,\n",
    "    configuration=c)\n"
   ]
  },
  {
   "cell_type": "code",
   "execution_count": null,
   "metadata": {},
   "outputs": [
    {
     "data": {
      "text/plain": [
       "list"
      ]
     },
     "execution_count": 12,
     "metadata": {},
     "output_type": "execute_result"
    }
   ],
   "source": [
    "type(cb.get_accounts())"
   ]
  },
  {
   "cell_type": "code",
   "execution_count": null,
   "metadata": {},
   "outputs": [
    {
     "data": {
      "text/plain": [
       "30"
      ]
     },
     "execution_count": 4,
     "metadata": {},
     "output_type": "execute_result"
    }
   ],
   "source": [
    "len(cb.accounts)"
   ]
  },
  {
   "cell_type": "code",
   "execution_count": null,
   "metadata": {},
   "outputs": [
    {
     "name": "stdout",
     "output_type": "stream",
     "text": [
      "SOL : EUR 165.08\n",
      "SUSHI : EUR 111.12\n",
      "MATIC : EUR 811.19\n",
      "ADA : EUR 442.71\n",
      "USDC : EUR 0.01\n",
      "---\n",
      "Portfolio: EUR 1530.11\n"
     ]
    }
   ],
   "source": [
    "print(cb.mycoinbase_report())"
   ]
  },
  {
   "cell_type": "code",
   "execution_count": null,
   "metadata": {},
   "outputs": [
    {
     "name": "stdout",
     "output_type": "stream",
     "text": [
      "Warning! There were 9 errors during the handling of transactions.\n"
     ]
    }
   ],
   "source": [
    "cb.history()"
   ]
  },
  {
   "cell_type": "code",
   "execution_count": null,
   "metadata": {},
   "outputs": [
    {
     "data": {
      "text/plain": [
       "[{'transaction_type': 'buy',\n",
       "  'account_id': 'af38031b-b9e5-5825-bb3e-77ea783ac192',\n",
       "  'transaction_id': '22d9ed43-e213-5726-a127-6f80dbb8b3d1',\n",
       "  'info': {'amount': -200.0, 'symbol': 'EUR', 'date': '2021-04-27T06:07:25Z'},\n",
       "  'error_log': coinbase.wallet.error.NotFoundError(<Response [404]>,\n",
       "                                      'not_found',\n",
       "                                      'Not found',\n",
       "                                      [{'id': 'not_found',\n",
       "                                        'message': 'Not found'}])},\n",
       " {'transaction_type': 'buy',\n",
       "  'account_id': 'af38031b-b9e5-5825-bb3e-77ea783ac192',\n",
       "  'transaction_id': 'a3428ab3-6dc6-5959-817f-b4ed1df29ea2',\n",
       "  'info': {'amount': -213.69, 'symbol': 'EUR', 'date': '2021-04-24T08:53:48Z'},\n",
       "  'error_log': coinbase.wallet.error.NotFoundError(<Response [404]>,\n",
       "                                      'not_found',\n",
       "                                      'Not found',\n",
       "                                      [{'id': 'not_found',\n",
       "                                        'message': 'Not found'}])},\n",
       " {'transaction_type': 'sell',\n",
       "  'account_id': 'af38031b-b9e5-5825-bb3e-77ea783ac192',\n",
       "  'transaction_id': '54907a60-c982-5edf-ab93-fe199c7c9649',\n",
       "  'info': {'amount': 213.69, 'symbol': 'EUR', 'date': '2021-04-22T19:20:14Z'},\n",
       "  'error_log': coinbase.wallet.error.NotFoundError(<Response [404]>,\n",
       "                                      'not_found',\n",
       "                                      'Not found',\n",
       "                                      [{'id': 'not_found',\n",
       "                                        'message': 'Not found'}])},\n",
       " {'transaction_type': 'buy',\n",
       "  'account_id': 'af38031b-b9e5-5825-bb3e-77ea783ac192',\n",
       "  'transaction_id': 'fbbca3d1-5d4b-50ca-acf7-76c355caeb5a',\n",
       "  'info': {'amount': -250.0, 'symbol': 'EUR', 'date': '2021-04-22T10:13:53Z'},\n",
       "  'error_log': coinbase.wallet.error.NotFoundError(<Response [404]>,\n",
       "                                      'not_found',\n",
       "                                      'Not found',\n",
       "                                      [{'id': 'not_found',\n",
       "                                        'message': 'Not found'}])},\n",
       " {'transaction_type': 'buy',\n",
       "  'account_id': 'af38031b-b9e5-5825-bb3e-77ea783ac192',\n",
       "  'transaction_id': 'da376431-570a-55a3-bbe1-f44c6da7d6bf',\n",
       "  'info': {'amount': -500.0, 'symbol': 'EUR', 'date': '2021-04-20T18:57:41Z'},\n",
       "  'error_log': coinbase.wallet.error.NotFoundError(<Response [404]>,\n",
       "                                      'not_found',\n",
       "                                      'Not found',\n",
       "                                      [{'id': 'not_found',\n",
       "                                        'message': 'Not found'}])},\n",
       " {'transaction_type': 'sell',\n",
       "  'account_id': 'af38031b-b9e5-5825-bb3e-77ea783ac192',\n",
       "  'transaction_id': 'd6f31059-d03c-5170-b6f0-6b0a1f725b81',\n",
       "  'info': {'amount': 35.96, 'symbol': 'EUR', 'date': '2019-01-25T14:28:56Z'},\n",
       "  'error_log': coinbase.wallet.error.NotFoundError(<Response [404]>,\n",
       "                                      'not_found',\n",
       "                                      'Not found',\n",
       "                                      [{'id': 'not_found',\n",
       "                                        'message': 'Not found'}])},\n",
       " {'transaction_type': 'buy',\n",
       "  'account_id': 'af38031b-b9e5-5825-bb3e-77ea783ac192',\n",
       "  'transaction_id': '22b02587-56fd-5492-9df4-c40bcf9c2d30',\n",
       "  'info': {'amount': -93.27, 'symbol': 'EUR', 'date': '2018-11-09T12:06:15Z'},\n",
       "  'error_log': coinbase.wallet.error.NotFoundError(<Response [404]>,\n",
       "                                      'not_found',\n",
       "                                      'Not found',\n",
       "                                      [{'id': 'not_found',\n",
       "                                        'message': 'Not found'}])},\n",
       " {'transaction_type': 'sell',\n",
       "  'account_id': 'af38031b-b9e5-5825-bb3e-77ea783ac192',\n",
       "  'transaction_id': '57d63f1e-b8f1-51e4-8a74-10ba7e3bb7c7',\n",
       "  'info': {'amount': 93.27, 'symbol': 'EUR', 'date': '2018-11-09T12:05:13Z'},\n",
       "  'error_log': coinbase.wallet.error.NotFoundError(<Response [404]>,\n",
       "                                      'not_found',\n",
       "                                      'Not found',\n",
       "                                      [{'id': 'not_found',\n",
       "                                        'message': 'Not found'}])},\n",
       " {'transaction_type': 'buy',\n",
       "  'account_id': 'af38031b-b9e5-5825-bb3e-77ea783ac192',\n",
       "  'transaction_id': '0a7bdc5f-80de-520e-a77d-8c75ce0dad23',\n",
       "  'info': {'amount': -100.0, 'symbol': 'EUR', 'date': '2018-10-22T06:29:22Z'},\n",
       "  'error_log': coinbase.wallet.error.NotFoundError(<Response [404]>,\n",
       "                                      'not_found',\n",
       "                                      'Not found',\n",
       "                                      [{'id': 'not_found',\n",
       "                                        'message': 'Not found'}])}]"
      ]
     },
     "execution_count": 7,
     "metadata": {},
     "output_type": "execute_result"
    }
   ],
   "source": [
    "cb.error_log"
   ]
  },
  {
   "cell_type": "code",
   "execution_count": null,
   "metadata": {},
   "outputs": [
    {
     "data": {
      "text/html": [
       "<div>\n",
       "<style scoped>\n",
       "    .dataframe tbody tr th:only-of-type {\n",
       "        vertical-align: middle;\n",
       "    }\n",
       "\n",
       "    .dataframe tbody tr th {\n",
       "        vertical-align: top;\n",
       "    }\n",
       "\n",
       "    .dataframe thead th {\n",
       "        text-align: right;\n",
       "    }\n",
       "</style>\n",
       "<table border=\"1\" class=\"dataframe\">\n",
       "  <thead>\n",
       "    <tr style=\"text-align: right;\">\n",
       "      <th></th>\n",
       "      <th>type</th>\n",
       "      <th>amount</th>\n",
       "      <th>symbol</th>\n",
       "      <th>native_amount</th>\n",
       "      <th>nat_symbol</th>\n",
       "      <th>total</th>\n",
       "      <th>subtotal</th>\n",
       "      <th>total_fee</th>\n",
       "      <th>spot_price</th>\n",
       "      <th>trade_id</th>\n",
       "    </tr>\n",
       "    <tr>\n",
       "      <th>datetime</th>\n",
       "      <th></th>\n",
       "      <th></th>\n",
       "      <th></th>\n",
       "      <th></th>\n",
       "      <th></th>\n",
       "      <th></th>\n",
       "      <th></th>\n",
       "      <th></th>\n",
       "      <th></th>\n",
       "      <th></th>\n",
       "    </tr>\n",
       "  </thead>\n",
       "  <tbody>\n",
       "    <tr>\n",
       "      <th>2021-11-29T10:47:17Z</th>\n",
       "      <td>buy</td>\n",
       "      <td>1.026156</td>\n",
       "      <td>SOL</td>\n",
       "      <td>186.85</td>\n",
       "      <td>EUR</td>\n",
       "      <td>NaN</td>\n",
       "      <td>NaN</td>\n",
       "      <td>1.620</td>\n",
       "      <td>182.087335</td>\n",
       "      <td>18160e53-8019-561c-a812-efd59cc7a354</td>\n",
       "    </tr>\n",
       "    <tr>\n",
       "      <th>2021-08-07T14:25:58Z</th>\n",
       "      <td>sell</td>\n",
       "      <td>2737.634483</td>\n",
       "      <td>ACH</td>\n",
       "      <td>299.46</td>\n",
       "      <td>EUR</td>\n",
       "      <td>NaN</td>\n",
       "      <td>NaN</td>\n",
       "      <td>-1.440</td>\n",
       "      <td>0.109386</td>\n",
       "      <td>4dbcbf9c-cd0d-56cb-8e25-f1da9a64558f</td>\n",
       "    </tr>\n",
       "    <tr>\n",
       "      <th>2021-08-06T23:12:51Z</th>\n",
       "      <td>buy</td>\n",
       "      <td>2737.634483</td>\n",
       "      <td>ACH</td>\n",
       "      <td>392.16</td>\n",
       "      <td>EUR</td>\n",
       "      <td>NaN</td>\n",
       "      <td>NaN</td>\n",
       "      <td>1.475</td>\n",
       "      <td>0.143248</td>\n",
       "      <td>78ad03ab-9076-593d-87f5-524da82304dd</td>\n",
       "    </tr>\n",
       "    <tr>\n",
       "      <th>2021-07-31T10:18:14Z</th>\n",
       "      <td>sell</td>\n",
       "      <td>4.123547</td>\n",
       "      <td>QNT</td>\n",
       "      <td>450.91</td>\n",
       "      <td>EUR</td>\n",
       "      <td>NaN</td>\n",
       "      <td>NaN</td>\n",
       "      <td>-3.225</td>\n",
       "      <td>109.350039</td>\n",
       "      <td>6ff73f15-78ae-56e1-8a01-ce15bbf64660</td>\n",
       "    </tr>\n",
       "    <tr>\n",
       "      <th>2021-07-29T21:35:01Z</th>\n",
       "      <td>buy</td>\n",
       "      <td>4.123547</td>\n",
       "      <td>QNT</td>\n",
       "      <td>493.84</td>\n",
       "      <td>EUR</td>\n",
       "      <td>NaN</td>\n",
       "      <td>NaN</td>\n",
       "      <td>2.570</td>\n",
       "      <td>119.760979</td>\n",
       "      <td>6fc836ca-5771-5c1e-9fc7-c010d554f4a7</td>\n",
       "    </tr>\n",
       "    <tr>\n",
       "      <th>...</th>\n",
       "      <td>...</td>\n",
       "      <td>...</td>\n",
       "      <td>...</td>\n",
       "      <td>...</td>\n",
       "      <td>...</td>\n",
       "      <td>...</td>\n",
       "      <td>...</td>\n",
       "      <td>...</td>\n",
       "      <td>...</td>\n",
       "      <td>...</td>\n",
       "    </tr>\n",
       "    <tr>\n",
       "      <th>2021-05-01T21:45:54Z</th>\n",
       "      <td>buy</td>\n",
       "      <td>0.494161</td>\n",
       "      <td>ETH</td>\n",
       "      <td>1205.04</td>\n",
       "      <td>EUR</td>\n",
       "      <td>NaN</td>\n",
       "      <td>NaN</td>\n",
       "      <td>-7.500</td>\n",
       "      <td>2438.557721</td>\n",
       "      <td>545826bf-d838-5b49-b066-944af7a4dd1f</td>\n",
       "    </tr>\n",
       "    <tr>\n",
       "      <th>2021-05-01T19:09:11Z</th>\n",
       "      <td>sell</td>\n",
       "      <td>0.258429</td>\n",
       "      <td>ETH</td>\n",
       "      <td>630.96</td>\n",
       "      <td>EUR</td>\n",
       "      <td>NaN</td>\n",
       "      <td>NaN</td>\n",
       "      <td>3.265</td>\n",
       "      <td>2441.520900</td>\n",
       "      <td>6b8d639b-985b-5384-8046-35a0f71ad094</td>\n",
       "    </tr>\n",
       "    <tr>\n",
       "      <th>2021-04-20T18:57:40Z</th>\n",
       "      <td>buy</td>\n",
       "      <td>0.258429</td>\n",
       "      <td>ETH</td>\n",
       "      <td>500.00</td>\n",
       "      <td>EUR</td>\n",
       "      <td>500.00</td>\n",
       "      <td>492.66</td>\n",
       "      <td>7.340</td>\n",
       "      <td>1906.364408</td>\n",
       "      <td>None</td>\n",
       "    </tr>\n",
       "    <tr>\n",
       "      <th>2018-11-09T12:05:12Z</th>\n",
       "      <td>sell</td>\n",
       "      <td>0.017237</td>\n",
       "      <td>BTC</td>\n",
       "      <td>93.27</td>\n",
       "      <td>EUR</td>\n",
       "      <td>93.27</td>\n",
       "      <td>96.26</td>\n",
       "      <td>2.990</td>\n",
       "      <td>5584.488743</td>\n",
       "      <td>None</td>\n",
       "    </tr>\n",
       "    <tr>\n",
       "      <th>2018-10-22T06:29:22Z</th>\n",
       "      <td>buy</td>\n",
       "      <td>0.017237</td>\n",
       "      <td>BTC</td>\n",
       "      <td>100.00</td>\n",
       "      <td>EUR</td>\n",
       "      <td>100.00</td>\n",
       "      <td>97.01</td>\n",
       "      <td>2.990</td>\n",
       "      <td>5627.999719</td>\n",
       "      <td>None</td>\n",
       "    </tr>\n",
       "  </tbody>\n",
       "</table>\n",
       "<p>125 rows × 10 columns</p>\n",
       "</div>"
      ],
      "text/plain": [
       "                      type       amount symbol  native_amount nat_symbol  \\\n",
       "datetime                                                                   \n",
       "2021-11-29T10:47:17Z   buy     1.026156    SOL         186.85        EUR   \n",
       "2021-08-07T14:25:58Z  sell  2737.634483    ACH         299.46        EUR   \n",
       "2021-08-06T23:12:51Z   buy  2737.634483    ACH         392.16        EUR   \n",
       "2021-07-31T10:18:14Z  sell     4.123547    QNT         450.91        EUR   \n",
       "2021-07-29T21:35:01Z   buy     4.123547    QNT         493.84        EUR   \n",
       "...                    ...          ...    ...            ...        ...   \n",
       "2021-05-01T21:45:54Z   buy     0.494161    ETH        1205.04        EUR   \n",
       "2021-05-01T19:09:11Z  sell     0.258429    ETH         630.96        EUR   \n",
       "2021-04-20T18:57:40Z   buy     0.258429    ETH         500.00        EUR   \n",
       "2018-11-09T12:05:12Z  sell     0.017237    BTC          93.27        EUR   \n",
       "2018-10-22T06:29:22Z   buy     0.017237    BTC         100.00        EUR   \n",
       "\n",
       "                       total  subtotal  total_fee   spot_price  \\\n",
       "datetime                                                         \n",
       "2021-11-29T10:47:17Z     NaN       NaN      1.620   182.087335   \n",
       "2021-08-07T14:25:58Z     NaN       NaN     -1.440     0.109386   \n",
       "2021-08-06T23:12:51Z     NaN       NaN      1.475     0.143248   \n",
       "2021-07-31T10:18:14Z     NaN       NaN     -3.225   109.350039   \n",
       "2021-07-29T21:35:01Z     NaN       NaN      2.570   119.760979   \n",
       "...                      ...       ...        ...          ...   \n",
       "2021-05-01T21:45:54Z     NaN       NaN     -7.500  2438.557721   \n",
       "2021-05-01T19:09:11Z     NaN       NaN      3.265  2441.520900   \n",
       "2021-04-20T18:57:40Z  500.00    492.66      7.340  1906.364408   \n",
       "2018-11-09T12:05:12Z   93.27     96.26      2.990  5584.488743   \n",
       "2018-10-22T06:29:22Z  100.00     97.01      2.990  5627.999719   \n",
       "\n",
       "                                                  trade_id  \n",
       "datetime                                                    \n",
       "2021-11-29T10:47:17Z  18160e53-8019-561c-a812-efd59cc7a354  \n",
       "2021-08-07T14:25:58Z  4dbcbf9c-cd0d-56cb-8e25-f1da9a64558f  \n",
       "2021-08-06T23:12:51Z  78ad03ab-9076-593d-87f5-524da82304dd  \n",
       "2021-07-31T10:18:14Z  6ff73f15-78ae-56e1-8a01-ce15bbf64660  \n",
       "2021-07-29T21:35:01Z  6fc836ca-5771-5c1e-9fc7-c010d554f4a7  \n",
       "...                                                    ...  \n",
       "2021-05-01T21:45:54Z  545826bf-d838-5b49-b066-944af7a4dd1f  \n",
       "2021-05-01T19:09:11Z  6b8d639b-985b-5384-8046-35a0f71ad094  \n",
       "2021-04-20T18:57:40Z                                  None  \n",
       "2018-11-09T12:05:12Z                                  None  \n",
       "2018-10-22T06:29:22Z                                  None  \n",
       "\n",
       "[125 rows x 10 columns]"
      ]
     },
     "execution_count": 8,
     "metadata": {},
     "output_type": "execute_result"
    }
   ],
   "source": [
    "portfolio=PortfolioAnalysis(cb.my_coinbase)\n",
    "portfolio.std_df"
   ]
  },
  {
   "cell_type": "code",
   "execution_count": null,
   "metadata": {},
   "outputs": [
    {
     "name": "stdout",
     "output_type": "stream",
     "text": [
      "  symbol      amount  live_value\n",
      "0    ADA  395.345694  442.787177\n",
      "1  MATIC  428.531067  811.037898\n",
      "2    SOL    1.026156  165.231629\n",
      "3  SUSHI   21.493860  111.123255\n",
      "4   USDC    0.006479    0.006479\n",
      "Total portfolio balance: 1530.19 EUR\n"
     ]
    }
   ],
   "source": [
    "portfolio.portfolio_value(cb.client)"
   ]
  },
  {
   "cell_type": "code",
   "execution_count": null,
   "metadata": {},
   "outputs": [
    {
     "data": {
      "text/plain": [
       "31.480000000000004"
      ]
     },
     "execution_count": 10,
     "metadata": {},
     "output_type": "execute_result"
    }
   ],
   "source": [
    "portfolio.total_fees()"
   ]
  },
  {
   "cell_type": "code",
   "execution_count": null,
   "metadata": {},
   "outputs": [
    {
     "data": {
      "text/html": [
       "<div>\n",
       "<style scoped>\n",
       "    .dataframe tbody tr th:only-of-type {\n",
       "        vertical-align: middle;\n",
       "    }\n",
       "\n",
       "    .dataframe tbody tr th {\n",
       "        vertical-align: top;\n",
       "    }\n",
       "\n",
       "    .dataframe thead th {\n",
       "        text-align: right;\n",
       "    }\n",
       "</style>\n",
       "<table border=\"1\" class=\"dataframe\">\n",
       "  <thead>\n",
       "    <tr style=\"text-align: right;\">\n",
       "      <th></th>\n",
       "      <th>native_amount</th>\n",
       "    </tr>\n",
       "    <tr>\n",
       "      <th>type</th>\n",
       "      <th></th>\n",
       "    </tr>\n",
       "  </thead>\n",
       "  <tbody>\n",
       "    <tr>\n",
       "      <th>buy</th>\n",
       "      <td>1356.96</td>\n",
       "    </tr>\n",
       "    <tr>\n",
       "      <th>fiat_deposit</th>\n",
       "      <td>1050.00</td>\n",
       "    </tr>\n",
       "    <tr>\n",
       "      <th>fiat_withdrawal</th>\n",
       "      <td>-35.96</td>\n",
       "    </tr>\n",
       "    <tr>\n",
       "      <th>sell</th>\n",
       "      <td>-342.92</td>\n",
       "    </tr>\n",
       "    <tr>\n",
       "      <th>send</th>\n",
       "      <td>41.59</td>\n",
       "    </tr>\n",
       "    <tr>\n",
       "      <th>trade</th>\n",
       "      <td>-307.06</td>\n",
       "    </tr>\n",
       "  </tbody>\n",
       "</table>\n",
       "</div>"
      ],
      "text/plain": [
       "                 native_amount\n",
       "type                          \n",
       "buy                    1356.96\n",
       "fiat_deposit           1050.00\n",
       "fiat_withdrawal         -35.96\n",
       "sell                   -342.92\n",
       "send                     41.59\n",
       "trade                  -307.06"
      ]
     },
     "execution_count": 11,
     "metadata": {},
     "output_type": "execute_result"
    }
   ],
   "source": [
    "portfolio.total_by_type()"
   ]
  }
 ],
 "metadata": {
  "interpreter": {
   "hash": "2e02a164808c41417adc12155d25fe4bbfd713e61a4a1963afc9ad34588db99f"
  },
  "kernelspec": {
   "display_name": "Python 3.7.11 64-bit ('crypto': conda)",
   "language": "python",
   "name": "python3"
  },
  "language_info": {
   "codemirror_mode": {
    "name": "ipython",
    "version": 3
   },
   "file_extension": ".py",
   "mimetype": "text/x-python",
   "name": "python",
   "nbconvert_exporter": "python",
   "pygments_lexer": "ipython3",
   "version": "3.7.11"
  },
  "orig_nbformat": 4
 },
 "nbformat": 4,
 "nbformat_minor": 2
}
