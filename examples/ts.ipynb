{
 "cells": [
  {
   "cell_type": "markdown",
   "metadata": {},
   "source": [
    "# TS: a time-series object optimized for crypto\n",
    "\n",
    "The object `surfingcrypto.ts.TS` is specifically designed for cryptocurrencies price data.\n",
    "\n",
    "To initiate the object, first load the package configuration."
   ]
  },
  {
   "cell_type": "code",
   "execution_count": 1,
   "metadata": {},
   "outputs": [],
   "source": [
    "from surfingcrypto import Config,TS\n",
    "c=Config(\"/Users/giorgiocaizzi/Documents/GitHub/surfingcrypto/config\")"
   ]
  },
  {
   "cell_type": "markdown",
   "metadata": {},
   "source": [
    "Itiate a `TS` object by passing the `Config` object and specify the `coin` code string.\n",
    "\n",
    "<div class=\"alert alert-info\">\n",
    "\n",
    "Note\n",
    "\n",
    "The data must be available locally in the path loaded as `Config.data_folder` attribute. If required, data can be first scraped with the `surfingcrypto.scraper.Scraper` object.\n",
    "\n",
    "</div>"
   ]
  },
  {
   "cell_type": "code",
   "execution_count": 2,
   "metadata": {},
   "outputs": [],
   "source": [
    "ts=TS(c,coin=\"BTC\")"
   ]
  },
  {
   "cell_type": "markdown",
   "metadata": {},
   "source": [
    "## Compute TA indicators"
   ]
  },
  {
   "cell_type": "code",
   "execution_count": 3,
   "metadata": {},
   "outputs": [
    {
     "data": {
      "text/html": [
       "<div>\n",
       "<style scoped>\n",
       "    .dataframe tbody tr th:only-of-type {\n",
       "        vertical-align: middle;\n",
       "    }\n",
       "\n",
       "    .dataframe tbody tr th {\n",
       "        vertical-align: top;\n",
       "    }\n",
       "\n",
       "    .dataframe thead th {\n",
       "        text-align: right;\n",
       "    }\n",
       "</style>\n",
       "<table border=\"1\" class=\"dataframe\">\n",
       "  <thead>\n",
       "    <tr style=\"text-align: right;\">\n",
       "      <th></th>\n",
       "      <th>Open</th>\n",
       "      <th>High</th>\n",
       "      <th>Low</th>\n",
       "      <th>Close</th>\n",
       "      <th>Volume</th>\n",
       "      <th>Market Cap</th>\n",
       "      <th>SMA_26</th>\n",
       "      <th>SMA_12</th>\n",
       "      <th>MACD_12_26_9</th>\n",
       "      <th>MACDh_12_26_9</th>\n",
       "      <th>MACDs_12_26_9</th>\n",
       "      <th>BBL_20_2.0</th>\n",
       "      <th>BBM_20_2.0</th>\n",
       "      <th>BBU_20_2.0</th>\n",
       "      <th>BBB_20_2.0</th>\n",
       "      <th>BBP_20_2.0</th>\n",
       "      <th>RSI_14</th>\n",
       "    </tr>\n",
       "    <tr>\n",
       "      <th>Date</th>\n",
       "      <th></th>\n",
       "      <th></th>\n",
       "      <th></th>\n",
       "      <th></th>\n",
       "      <th></th>\n",
       "      <th></th>\n",
       "      <th></th>\n",
       "      <th></th>\n",
       "      <th></th>\n",
       "      <th></th>\n",
       "      <th></th>\n",
       "      <th></th>\n",
       "      <th></th>\n",
       "      <th></th>\n",
       "      <th></th>\n",
       "      <th></th>\n",
       "      <th></th>\n",
       "    </tr>\n",
       "  </thead>\n",
       "  <tbody>\n",
       "    <tr>\n",
       "      <th>2017-10-01 00:00:00+00:00</th>\n",
       "      <td>3675.118358</td>\n",
       "      <td>3729.454806</td>\n",
       "      <td>3614.807026</td>\n",
       "      <td>3729.454806</td>\n",
       "      <td>1.023213e+09</td>\n",
       "      <td>6.190284e+10</td>\n",
       "      <td>NaN</td>\n",
       "      <td>NaN</td>\n",
       "      <td>NaN</td>\n",
       "      <td>NaN</td>\n",
       "      <td>NaN</td>\n",
       "      <td>NaN</td>\n",
       "      <td>NaN</td>\n",
       "      <td>NaN</td>\n",
       "      <td>NaN</td>\n",
       "      <td>NaN</td>\n",
       "      <td>NaN</td>\n",
       "    </tr>\n",
       "    <tr>\n",
       "      <th>2017-10-02 00:00:00+00:00</th>\n",
       "      <td>3722.738871</td>\n",
       "      <td>3810.612889</td>\n",
       "      <td>3727.718608</td>\n",
       "      <td>3758.690499</td>\n",
       "      <td>1.220467e+09</td>\n",
       "      <td>6.239506e+10</td>\n",
       "      <td>NaN</td>\n",
       "      <td>NaN</td>\n",
       "      <td>NaN</td>\n",
       "      <td>NaN</td>\n",
       "      <td>NaN</td>\n",
       "      <td>NaN</td>\n",
       "      <td>NaN</td>\n",
       "      <td>NaN</td>\n",
       "      <td>NaN</td>\n",
       "      <td>NaN</td>\n",
       "      <td>NaN</td>\n",
       "    </tr>\n",
       "    <tr>\n",
       "      <th>2017-10-03 00:00:00+00:00</th>\n",
       "      <td>3757.957515</td>\n",
       "      <td>3785.524139</td>\n",
       "      <td>3623.045629</td>\n",
       "      <td>3675.702350</td>\n",
       "      <td>1.096561e+09</td>\n",
       "      <td>6.102594e+10</td>\n",
       "      <td>NaN</td>\n",
       "      <td>NaN</td>\n",
       "      <td>NaN</td>\n",
       "      <td>NaN</td>\n",
       "      <td>NaN</td>\n",
       "      <td>NaN</td>\n",
       "      <td>NaN</td>\n",
       "      <td>NaN</td>\n",
       "      <td>NaN</td>\n",
       "      <td>NaN</td>\n",
       "      <td>NaN</td>\n",
       "    </tr>\n",
       "    <tr>\n",
       "      <th>2017-10-04 00:00:00+00:00</th>\n",
       "      <td>3677.311525</td>\n",
       "      <td>3701.573447</td>\n",
       "      <td>3579.984629</td>\n",
       "      <td>3597.924171</td>\n",
       "      <td>9.500383e+08</td>\n",
       "      <td>5.974056e+10</td>\n",
       "      <td>NaN</td>\n",
       "      <td>NaN</td>\n",
       "      <td>NaN</td>\n",
       "      <td>NaN</td>\n",
       "      <td>NaN</td>\n",
       "      <td>NaN</td>\n",
       "      <td>NaN</td>\n",
       "      <td>NaN</td>\n",
       "      <td>NaN</td>\n",
       "      <td>NaN</td>\n",
       "      <td>NaN</td>\n",
       "    </tr>\n",
       "    <tr>\n",
       "      <th>2017-10-05 00:00:00+00:00</th>\n",
       "      <td>3598.366553</td>\n",
       "      <td>3727.477902</td>\n",
       "      <td>3536.648382</td>\n",
       "      <td>3695.389871</td>\n",
       "      <td>9.918637e+08</td>\n",
       "      <td>6.136453e+10</td>\n",
       "      <td>NaN</td>\n",
       "      <td>NaN</td>\n",
       "      <td>NaN</td>\n",
       "      <td>NaN</td>\n",
       "      <td>NaN</td>\n",
       "      <td>NaN</td>\n",
       "      <td>NaN</td>\n",
       "      <td>NaN</td>\n",
       "      <td>NaN</td>\n",
       "      <td>NaN</td>\n",
       "      <td>NaN</td>\n",
       "    </tr>\n",
       "  </tbody>\n",
       "</table>\n",
       "</div>"
      ],
      "text/plain": [
       "                                  Open         High          Low        Close  \\\n",
       "Date                                                                            \n",
       "2017-10-01 00:00:00+00:00  3675.118358  3729.454806  3614.807026  3729.454806   \n",
       "2017-10-02 00:00:00+00:00  3722.738871  3810.612889  3727.718608  3758.690499   \n",
       "2017-10-03 00:00:00+00:00  3757.957515  3785.524139  3623.045629  3675.702350   \n",
       "2017-10-04 00:00:00+00:00  3677.311525  3701.573447  3579.984629  3597.924171   \n",
       "2017-10-05 00:00:00+00:00  3598.366553  3727.477902  3536.648382  3695.389871   \n",
       "\n",
       "                                 Volume    Market Cap  SMA_26  SMA_12  \\\n",
       "Date                                                                    \n",
       "2017-10-01 00:00:00+00:00  1.023213e+09  6.190284e+10     NaN     NaN   \n",
       "2017-10-02 00:00:00+00:00  1.220467e+09  6.239506e+10     NaN     NaN   \n",
       "2017-10-03 00:00:00+00:00  1.096561e+09  6.102594e+10     NaN     NaN   \n",
       "2017-10-04 00:00:00+00:00  9.500383e+08  5.974056e+10     NaN     NaN   \n",
       "2017-10-05 00:00:00+00:00  9.918637e+08  6.136453e+10     NaN     NaN   \n",
       "\n",
       "                           MACD_12_26_9  MACDh_12_26_9  MACDs_12_26_9  \\\n",
       "Date                                                                    \n",
       "2017-10-01 00:00:00+00:00           NaN            NaN            NaN   \n",
       "2017-10-02 00:00:00+00:00           NaN            NaN            NaN   \n",
       "2017-10-03 00:00:00+00:00           NaN            NaN            NaN   \n",
       "2017-10-04 00:00:00+00:00           NaN            NaN            NaN   \n",
       "2017-10-05 00:00:00+00:00           NaN            NaN            NaN   \n",
       "\n",
       "                           BBL_20_2.0  BBM_20_2.0  BBU_20_2.0  BBB_20_2.0  \\\n",
       "Date                                                                        \n",
       "2017-10-01 00:00:00+00:00         NaN         NaN         NaN         NaN   \n",
       "2017-10-02 00:00:00+00:00         NaN         NaN         NaN         NaN   \n",
       "2017-10-03 00:00:00+00:00         NaN         NaN         NaN         NaN   \n",
       "2017-10-04 00:00:00+00:00         NaN         NaN         NaN         NaN   \n",
       "2017-10-05 00:00:00+00:00         NaN         NaN         NaN         NaN   \n",
       "\n",
       "                           BBP_20_2.0  RSI_14  \n",
       "Date                                           \n",
       "2017-10-01 00:00:00+00:00         NaN     NaN  \n",
       "2017-10-02 00:00:00+00:00         NaN     NaN  \n",
       "2017-10-03 00:00:00+00:00         NaN     NaN  \n",
       "2017-10-04 00:00:00+00:00         NaN     NaN  \n",
       "2017-10-05 00:00:00+00:00         NaN     NaN  "
      ]
     },
     "execution_count": 3,
     "metadata": {},
     "output_type": "execute_result"
    }
   ],
   "source": [
    "ts.ta_indicators()\n",
    "ts.df.head()"
   ]
  },
  {
   "cell_type": "markdown",
   "metadata": {},
   "source": [
    "The time series are UTC aware."
   ]
  },
  {
   "cell_type": "code",
   "execution_count": 4,
   "metadata": {},
   "outputs": [
    {
     "data": {
      "text/plain": [
       "Timestamp('2022-02-19 00:00:00+0000', tz='UTC')"
      ]
     },
     "execution_count": 4,
     "metadata": {},
     "output_type": "execute_result"
    }
   ],
   "source": [
    "ts.df.index[-1]"
   ]
  },
  {
   "cell_type": "markdown",
   "metadata": {},
   "source": [
    "## Other features\n",
    "\n",
    "### Distance from ATH\n",
    "\n",
    "The distance from the all time high (ATH) can be computed."
   ]
  },
  {
   "cell_type": "code",
   "execution_count": 5,
   "metadata": {},
   "outputs": [
    {
     "data": {
      "text/plain": [
       "Date\n",
       "2022-02-15 00:00:00+00:00    19049.128692\n",
       "2022-02-16 00:00:00+00:00    19650.255564\n",
       "2022-02-17 00:00:00+00:00    22631.101536\n",
       "2022-02-18 00:00:00+00:00    22948.400646\n",
       "2022-02-19 00:00:00+00:00    22867.868289\n",
       "Name: distance_ATH, dtype: float64"
      ]
     },
     "execution_count": 5,
     "metadata": {},
     "output_type": "execute_result"
    }
   ],
   "source": [
    "ts.distance_from_ath()\n",
    "ts.df[\"distance_ATH\"].tail()"
   ]
  }
 ],
 "metadata": {
  "interpreter": {
   "hash": "2d92824427b41c6028804632d5278b37df1fc0de77b5e6f8aeb0bbbd2f432773"
  },
  "kernelspec": {
   "display_name": "Python 3.7.11 64-bit ('cryptoenv': conda)",
   "language": "python",
   "name": "python3"
  },
  "language_info": {
   "codemirror_mode": {
    "name": "ipython",
    "version": 3
   },
   "file_extension": ".py",
   "mimetype": "text/x-python",
   "name": "python",
   "nbconvert_exporter": "python",
   "pygments_lexer": "ipython3",
   "version": "3.7.12"
  },
  "orig_nbformat": 4
 },
 "nbformat": 4,
 "nbformat_minor": 2
}
