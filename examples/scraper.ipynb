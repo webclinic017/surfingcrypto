{
 "cells": [
  {
   "cell_type": "markdown",
   "metadata": {},
   "source": [
    "# Scraper: dowload required price data.\n",
    "\n",
    "The object `surfingcrypto.scraper.Scraper` is used for dowloading locally the data required, obtaining requirements from the files found in the `config` folder.\n",
    "\n",
    "First import required objects."
   ]
  },
  {
   "cell_type": "code",
   "execution_count": 5,
   "metadata": {},
   "outputs": [
    {
     "name": "stdout",
     "output_type": "stream",
     "text": [
      "The autoreload extension is already loaded. To reload it, use:\n",
      "  %reload_ext autoreload\n"
     ]
    }
   ],
   "source": [
    "%matplotlib inline\n",
    "%load_ext autoreload\n",
    "%autoreload 2\n",
    "from surfingcrypto import Config\n",
    "from surfingcrypto.scraper import Scraper "
   ]
  },
  {
   "cell_type": "markdown",
   "metadata": {},
   "source": [
    "Load the configuration."
   ]
  },
  {
   "cell_type": "code",
   "execution_count": 6,
   "metadata": {},
   "outputs": [],
   "source": [
    "parent=\"/Users/giorgiocaizzi/Documents/GitHub/surfingcrypto/\"\n",
    "c=Config(parent+\"config\")"
   ]
  },
  {
   "cell_type": "markdown",
   "metadata": {},
   "source": [
    "Run the scraper."
   ]
  },
  {
   "cell_type": "code",
   "execution_count": 7,
   "metadata": {},
   "outputs": [
    {
     "name": "stdout",
     "output_type": "stream",
     "text": [
      "Error fetching coin id data for coin code {} CGLD\n",
      "Error message: 'CGLD' coin code is unavailable on coinmarketcap.com\n",
      "Error fetching price data for {} for interval '{}' and '{}' CGLD 25-04-2021 25-04-2021\n",
      "Error message (download_data) : \"slug\" must only contain lowercase characters\n",
      "### SCRAPER\n",
      "Update failed. Check log files for update\n",
      "DF: SOL already up to date.\n",
      "DF: ACH already up to date.\n",
      "DF: QNT already up to date.\n",
      "DF: BOND already up to date.\n",
      "DF: CLV already up to date.\n",
      "DF: BAL already up to date.\n",
      "DF: AAVE already up to date.\n",
      "DF: AMP already up to date.\n",
      "DF: SKL already up to date.\n",
      "DF: USDT already up to date.\n",
      "DF: SUSHI update failed.\n",
      "DF: RLC already up to date.\n",
      "DF: STORJ already up to date.\n",
      "DF: FORTH already up to date.\n",
      "DF: MATIC already up to date.\n",
      "DF: UNI already up to date.\n",
      "DF: XLM already up to date.\n",
      "DF: COMP already up to date.\n",
      "DF: NU already up to date.\n",
      "DF: GRT already up to date.\n",
      "DF: CGLD download failed.\n",
      "DF: ADA already up to date.\n",
      "DF: MKR already up to date.\n",
      "DF: MANA already up to date.\n",
      "DF: BAT already up to date.\n",
      "DF: ETC already up to date.\n",
      "DF: ETH already up to date.\n",
      "DF: BTC already up to date.\n"
     ]
    }
   ],
   "source": [
    "s=Scraper(c)\n",
    "s.run()"
   ]
  },
  {
   "cell_type": "code",
   "execution_count": 8,
   "metadata": {},
   "outputs": [
    {
     "data": {
      "text/plain": [
       "[{'coin': 'SUSHI', 'error': IndexError('list index out of range')},\n",
       " {'coin': 'CGLD',\n",
       "  'error': TypeError(\"'NoneType' object is not subscriptable\")}]"
      ]
     },
     "execution_count": 8,
     "metadata": {},
     "output_type": "execute_result"
    }
   ],
   "source": [
    "s.errors"
   ]
  }
 ],
 "metadata": {
  "interpreter": {
   "hash": "2d92824427b41c6028804632d5278b37df1fc0de77b5e6f8aeb0bbbd2f432773"
  },
  "kernelspec": {
   "display_name": "Python 3.7.11 64-bit ('cryptoenv': conda)",
   "language": "python",
   "name": "python3"
  },
  "language_info": {
   "codemirror_mode": {
    "name": "ipython",
    "version": 3
   },
   "file_extension": ".py",
   "mimetype": "text/x-python",
   "name": "python",
   "nbconvert_exporter": "python",
   "pygments_lexer": "ipython3",
   "version": "3.7.12"
  },
  "orig_nbformat": 4
 },
 "nbformat": 4,
 "nbformat_minor": 2
}
