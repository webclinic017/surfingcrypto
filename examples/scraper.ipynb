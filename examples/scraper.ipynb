{
 "cells": [
  {
   "cell_type": "code",
   "execution_count": 1,
   "metadata": {},
   "outputs": [],
   "source": [
    "%matplotlib inline\n",
    "%load_ext autoreload\n",
    "%autoreload 2\n",
    "from surfingcrypto.config import config\n",
    "from surfingcrypto.scraper import Scraper "
   ]
  },
  {
   "cell_type": "code",
   "execution_count": 2,
   "metadata": {},
   "outputs": [],
   "source": [
    "parent=\"/Users/giorgiocaizzi/Documents/GitHub/surfingcrypto/\"\n",
    "c=config(parent+\"config\")"
   ]
  },
  {
   "cell_type": "code",
   "execution_count": 3,
   "metadata": {},
   "outputs": [
    {
     "data": {
      "text/plain": [
       "{'SOL': {'start': datetime.date(2021, 11, 29),\n",
       "  'end_day': datetime.date(2022, 1, 23)},\n",
       " 'ACH': {'start': datetime.date(2021, 8, 6),\n",
       "  'end_day': datetime.date(2021, 8, 7)},\n",
       " 'QNT': {'start': datetime.date(2021, 7, 29),\n",
       "  'end_day': datetime.date(2021, 7, 31)},\n",
       " 'BOND': {'start': datetime.date(2021, 7, 24),\n",
       "  'end_day': datetime.date(2021, 7, 24)},\n",
       " 'CLV': {'start': datetime.date(2021, 7, 24),\n",
       "  'end_day': datetime.date(2021, 7, 24)},\n",
       " 'BAL': {'start': datetime.date(2021, 7, 24),\n",
       "  'end_day': datetime.date(2021, 7, 24)},\n",
       " 'AAVE': {'start': datetime.date(2021, 7, 4),\n",
       "  'end_day': datetime.date(2021, 8, 26)},\n",
       " 'AMP': {'start': datetime.date(2021, 6, 15),\n",
       "  'end_day': datetime.date(2021, 7, 4)},\n",
       " 'SKL': {'start': datetime.date(2021, 5, 22),\n",
       "  'end_day': datetime.date(2021, 5, 22)},\n",
       " 'USDT': {'start': datetime.date(2021, 5, 13),\n",
       "  'end_day': datetime.date(2021, 5, 14)},\n",
       " 'SUSHI': {'start': datetime.date(2021, 5, 11),\n",
       "  'end_day': datetime.date(2022, 1, 23)},\n",
       " 'RLC': {'start': datetime.date(2021, 5, 10),\n",
       "  'end_day': datetime.date(2021, 5, 10)},\n",
       " 'STORJ': {'start': datetime.date(2021, 5, 8),\n",
       "  'end_day': datetime.date(2021, 5, 8)},\n",
       " 'FORTH': {'start': datetime.date(2021, 4, 28),\n",
       "  'end_day': datetime.date(2021, 4, 28)},\n",
       " 'MATIC': {'start': datetime.date(2021, 4, 27),\n",
       "  'end_day': datetime.date(2022, 1, 23)},\n",
       " 'UNI': {'start': datetime.date(2021, 4, 25),\n",
       "  'end_day': datetime.date(2021, 9, 7)},\n",
       " 'XLM': {'start': datetime.date(2021, 4, 25),\n",
       "  'end_day': datetime.date(2021, 4, 25)},\n",
       " 'COMP': {'start': datetime.date(2021, 4, 25),\n",
       "  'end_day': datetime.date(2021, 7, 8)},\n",
       " 'NU': {'start': datetime.date(2021, 4, 25),\n",
       "  'end_day': datetime.date(2021, 4, 25)},\n",
       " 'GRT': {'start': datetime.date(2021, 4, 25),\n",
       "  'end_day': datetime.date(2021, 7, 24)},\n",
       " 'CGLD': {'start': datetime.date(2021, 4, 25),\n",
       "  'end_day': datetime.date(2021, 4, 25)},\n",
       " 'ADA': {'start': datetime.date(2021, 4, 24),\n",
       "  'end_day': datetime.date(2022, 1, 23)},\n",
       " 'MKR': {'start': datetime.date(2021, 4, 22),\n",
       "  'end_day': datetime.date(2021, 4, 22)},\n",
       " 'MANA': {'start': datetime.date(2021, 7, 24),\n",
       "  'end_day': datetime.date(2021, 7, 26)},\n",
       " 'BAT': {'start': datetime.date(2018, 11, 9),\n",
       "  'end_day': datetime.date(2019, 1, 25)},\n",
       " 'ETC': {'start': datetime.date(2021, 5, 1),\n",
       "  'end_day': datetime.date(2021, 5, 7)},\n",
       " 'ETH': {'start': datetime.date(2021, 4, 20),\n",
       "  'end_day': datetime.date(2021, 8, 7)},\n",
       " 'BTC': {'start': datetime.date(2018, 10, 22),\n",
       "  'end_day': datetime.date(2018, 11, 9)}}"
      ]
     },
     "execution_count": 3,
     "metadata": {},
     "output_type": "execute_result"
    }
   ],
   "source": [
    "c.coinbase_req"
   ]
  },
  {
   "cell_type": "code",
   "execution_count": 4,
   "metadata": {},
   "outputs": [
    {
     "name": "stdout",
     "output_type": "stream",
     "text": [
      "Error fetching coin id data for coin code {} CGLD\n",
      "Error message: 'CGLD' coin code is unavailable on coinmarketcap.com\n",
      "Error fetching price data for {} for interval '{}' and '{}' CGLD 25-04-2021 25-04-2021\n",
      "Error message (download_data) : \"slug\" must only contain lowercase characters\n",
      "### SCRAPER\n",
      "Update failed. Check log files for update\n",
      "DF: SOL already up to date.\n",
      "DF: ACH successfully downloaded.\n",
      "DF: QNT successfully downloaded.\n",
      "DF: BOND successfully downloaded.\n",
      "DF: CLV successfully downloaded.\n",
      "DF: BAL successfully downloaded.\n",
      "DF: AAVE successfully downloaded.\n",
      "DF: AMP successfully downloaded.\n",
      "DF: SKL successfully downloaded.\n",
      "DF: USDT successfully downloaded.\n",
      "DF: SUSHI successfully downloaded.\n",
      "DF: RLC successfully downloaded.\n",
      "DF: STORJ successfully downloaded.\n",
      "DF: FORTH successfully downloaded.\n",
      "DF: MATIC already up to date.\n",
      "DF: UNI successfully downloaded.\n",
      "DF: XLM successfully downloaded.\n",
      "DF: COMP successfully downloaded.\n",
      "DF: NU successfully downloaded.\n",
      "DF: GRT successfully downloaded.\n",
      "DF: CGLD download failed.\n",
      "DF: ADA already up to date.\n",
      "DF: MKR successfully downloaded.\n",
      "DF: MANA successfully downloaded.\n",
      "DF: BAT successfully downloaded.\n",
      "DF: ETC successfully downloaded.\n",
      "DF: ETH already up to date.\n",
      "DF: BTC already up to date.\n"
     ]
    }
   ],
   "source": [
    "update=True\n",
    "if update:\n",
    "    s=Scraper(c)\n",
    "    s.run()"
   ]
  }
 ],
 "metadata": {
  "interpreter": {
   "hash": "2d92824427b41c6028804632d5278b37df1fc0de77b5e6f8aeb0bbbd2f432773"
  },
  "kernelspec": {
   "display_name": "Python 3.7.11 64-bit ('cryptoenv': conda)",
   "language": "python",
   "name": "python3"
  },
  "language_info": {
   "codemirror_mode": {
    "name": "ipython",
    "version": 3
   },
   "file_extension": ".py",
   "mimetype": "text/x-python",
   "name": "python",
   "nbconvert_exporter": "python",
   "pygments_lexer": "ipython3",
   "version": "3.7.11"
  },
  "orig_nbformat": 4
 },
 "nbformat": 4,
 "nbformat_minor": 2
}
