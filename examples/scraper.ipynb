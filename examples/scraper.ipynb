{
 "cells": [
  {
   "cell_type": "code",
   "execution_count": 1,
   "metadata": {},
   "outputs": [],
   "source": [
    "%matplotlib inline\n",
    "%load_ext autoreload\n",
    "%autoreload 2\n",
    "from surfingcrypto.config import config\n",
    "from surfingcrypto.scraper import Scraper "
   ]
  },
  {
   "cell_type": "code",
   "execution_count": 2,
   "metadata": {},
   "outputs": [],
   "source": [
    "parent=\"/Users/giorgiocaizzi/Documents/GitHub/surfingcrypto/\"\n",
    "c=config(parent+\"config\")"
   ]
  },
  {
   "cell_type": "code",
   "execution_count": 4,
   "metadata": {},
   "outputs": [
    {
     "name": "stdout",
     "output_type": "stream",
     "text": [
      "Error fetching coin id data for coin code {} CGLD\n",
      "Error message: 'CGLD' coin code is unavailable on coinmarketcap.com\n",
      "Error fetching price data for {} for interval '{}' and '{}' CGLD 25-04-2021 25-04-2021\n",
      "Error message (download_data) : \"slug\" must only contain lowercase characters\n",
      "### SCRAPER\n",
      "Update failed. Check log files for update\n",
      "DF: SOL already up to date.\n",
      "DF: ACH successfully downloaded.\n",
      "DF: QNT successfully downloaded.\n",
      "DF: BOND successfully downloaded.\n",
      "DF: CLV successfully downloaded.\n",
      "DF: BAL successfully downloaded.\n",
      "DF: AAVE successfully downloaded.\n",
      "DF: AMP successfully downloaded.\n",
      "DF: SKL successfully downloaded.\n",
      "DF: USDT successfully downloaded.\n",
      "DF: SUSHI successfully downloaded.\n",
      "DF: RLC successfully downloaded.\n",
      "DF: STORJ successfully downloaded.\n",
      "DF: FORTH successfully downloaded.\n",
      "DF: MATIC already up to date.\n",
      "DF: UNI successfully downloaded.\n",
      "DF: XLM successfully downloaded.\n",
      "DF: COMP successfully downloaded.\n",
      "DF: NU successfully downloaded.\n",
      "DF: GRT successfully downloaded.\n",
      "DF: CGLD download failed.\n",
      "DF: ADA already up to date.\n",
      "DF: MKR successfully downloaded.\n",
      "DF: MANA successfully downloaded.\n",
      "DF: BAT successfully downloaded.\n",
      "DF: ETC successfully downloaded.\n",
      "DF: ETH already up to date.\n",
      "DF: BTC already up to date.\n"
     ]
    }
   ],
   "source": [
    "update=True\n",
    "if update:\n",
    "    s=Scraper(c)\n",
    "    s.run()"
   ]
  }
 ],
 "metadata": {
  "interpreter": {
   "hash": "2d92824427b41c6028804632d5278b37df1fc0de77b5e6f8aeb0bbbd2f432773"
  },
  "kernelspec": {
   "display_name": "Python 3.7.11 64-bit ('cryptoenv': conda)",
   "language": "python",
   "name": "python3"
  },
  "language_info": {
   "codemirror_mode": {
    "name": "ipython",
    "version": 3
   },
   "file_extension": ".py",
   "mimetype": "text/x-python",
   "name": "python",
   "nbconvert_exporter": "python",
   "pygments_lexer": "ipython3",
   "version": "3.7.11"
  },
  "orig_nbformat": 4
 },
 "nbformat": 4,
 "nbformat_minor": 2
}
